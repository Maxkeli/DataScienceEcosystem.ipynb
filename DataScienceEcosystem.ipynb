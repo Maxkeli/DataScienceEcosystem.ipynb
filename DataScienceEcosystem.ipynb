{
 "cells": [
  {
   "cell_type": "markdown",
   "id": "0222b692-8c99-4864-9872-4989c9b2ed88",
   "metadata": {},
   "source": [
    "# Data Science Tools and Ecosystem"
   ]
  },
  {
   "cell_type": "markdown",
   "id": "0f7d2c09-6456-4d49-82c3-e313aa50de3c",
   "metadata": {},
   "source": [
    "In this notebook, Data Science Tools and Ecosystem are summarized."
   ]
  },
  {
   "cell_type": "markdown",
   "id": "decb8330-bd22-4293-a671-1e5947412b0a",
   "metadata": {},
   "source": [
    "**Objectives:**\n",
    "- list the tasks that a data scientist needs to perform\n",
    "- list the open-source data management tools. \n",
    "- list the open-source data integration and transformation tools. \n",
    "- list the data visualization tools.\n",
    "- compare and contrast different open-source tools"
   ]
  },
  {
   "cell_type": "markdown",
   "id": "3de5a9b6-88b2-42a4-baa5-4f9747e2528e",
   "metadata": {},
   "source": [
    "Some of the popular languages that Data Scientists use are:\n",
    "1. Python\n",
    "2. R\n",
    "3. C++\n",
    "4. Julia\n",
    "5. Scala\n",
    "6. JavaScript\n",
    "7. SQL"
   ]
  },
  {
   "cell_type": "markdown",
   "id": "e298210a-c785-4c88-8249-b51bd8479d06",
   "metadata": {},
   "source": [
    "Some of the commonly used libraries used by Data Scientists include:\n",
    "1. TensorFlow.\n",
    "2. NumPy.\n",
    "3. Pandas.\n",
    "4. Matplotlib.\n",
    "5. SciKit-Learn.\n",
    "6. Seaborn\n",
    "7. SciPy\n",
    "8. Keras\n",
    "9. Pytorch\n",
    "10. Vegas\n",
    "11. Big DL\n",
    "12. ggplot2"
   ]
  },
  {
   "cell_type": "markdown",
   "id": "50b9bc2d-b18b-495b-a43a-1355231dbcf2",
   "metadata": {},
   "source": [
    "| Data Science Tools |\n",
    "| ------------------ |\n",
    "| Jupiter Notebooks |\n",
    "| Jupiter Lab |\n",
    "| R Studio |\n",
    "| Apache Zeppelin |\n",
    "| Spyder |"
   ]
  },
  {
   "cell_type": "markdown",
   "id": "d3906002-f4e4-4072-a40d-d7449862f62a",
   "metadata": {},
   "source": [
    "### Below are a few examples of evaluating arithmetic expressions in Python"
   ]
  },
  {
   "cell_type": "code",
   "execution_count": 3,
   "id": "bfb86c8f-86dd-4a3d-ac48-7442141fee28",
   "metadata": {
    "tags": []
   },
   "outputs": [
    {
     "name": "stdout",
     "output_type": "stream",
     "text": [
      "17\n"
     ]
    }
   ],
   "source": [
    "# This a simple arithmetic expression to mutiply then add integers\n",
    "result=(3*4)+5\n",
    "print(result)"
   ]
  },
  {
   "cell_type": "code",
   "execution_count": 4,
   "id": "06d9996a-85dd-4dae-b4f2-7c7c4801c1c0",
   "metadata": {
    "tags": []
   },
   "outputs": [
    {
     "name": "stdout",
     "output_type": "stream",
     "text": [
      "3.3333333333333335\n"
     ]
    }
   ],
   "source": [
    "# This will convert 200 minutes to hours by diving by 60\n",
    "result = 200/60\n",
    "print(result)"
   ]
  },
  {
   "cell_type": "markdown",
   "id": "033e7bf0-1551-4262-a00b-3bd1607eaef5",
   "metadata": {},
   "source": [
    "## Author\n",
    "Maksym Loshniy"
   ]
  }
 ],
 "metadata": {
  "kernelspec": {
   "display_name": "Python",
   "language": "python",
   "name": "conda-env-python-py"
  },
  "language_info": {
   "codemirror_mode": {
    "name": "ipython",
    "version": 3
   },
   "file_extension": ".py",
   "mimetype": "text/x-python",
   "name": "python",
   "nbconvert_exporter": "python",
   "pygments_lexer": "ipython3",
   "version": "3.7.12"
  }
 },
 "nbformat": 4,
 "nbformat_minor": 5
}
